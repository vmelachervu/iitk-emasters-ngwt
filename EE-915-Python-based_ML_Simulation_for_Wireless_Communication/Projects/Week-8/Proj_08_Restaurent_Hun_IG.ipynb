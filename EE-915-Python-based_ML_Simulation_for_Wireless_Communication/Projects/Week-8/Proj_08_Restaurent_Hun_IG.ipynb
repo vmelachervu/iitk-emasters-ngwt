{
 "cells": [
  {
   "cell_type": "code",
   "execution_count": 1,
   "metadata": {},
   "outputs": [
    {
     "name": "stdout",
     "output_type": "stream",
     "text": [
      "Information Gain for 'Hun' attribute: 0.020720839623908027\n"
     ]
    }
   ],
   "source": [
    "import numpy as np\n",
    "import pandas as pd\n",
    "\n",
    "# Data from the image\n",
    "data = {\n",
    "    'Alt': ['Yes', 'Yes', 'No', 'Yes', 'Yes', 'No', 'No', 'No', 'No', 'Yes', 'No', 'Yes'],\n",
    "    'Bar': ['No', 'No', 'Yes', 'No', 'No', 'Yes', 'Yes', 'No', 'Yes', 'Yes', 'No', 'Yes'],\n",
    "    'Fri': ['No', 'No', 'No', 'Yes', 'Yes', 'No', 'No', 'No', 'Yes', 'Yes', 'No', 'Yes'],\n",
    "    'Hun': ['Yes', 'Yes', 'No', 'Yes', 'Yes', 'No', 'No', 'No', 'Yes', 'Yes', 'No', 'Yes'],\n",
    "    'Pat': ['Some', 'Full', 'Some', 'Full', 'Full', 'Some', 'None', 'Some', 'Full', 'Full', 'None', 'Full'],\n",
    "    'Price': ['$$$', '$$$', '$', '$', '$$$', '$$', '$', '$$', '$', '$$$', '$', '$'],\n",
    "    'Rain': ['No', 'No', 'No', 'Yes', 'No', 'Yes', 'No', 'Yes', 'Yes', 'No', 'No', 'No'],\n",
    "    'Res': ['Yes', 'No', 'No', 'Yes', 'No', 'Yes', 'No', 'No', 'Yes', 'Yes', 'No', 'Yes'],\n",
    "    'Type': ['French', 'Thai', 'Burger', 'Thai', 'French', 'Italian', 'Burger', 'Thai', 'Burger', 'Italian', 'Thai', 'Burger'],\n",
    "    'WillWait': ['Yes', 'No', 'Yes', 'Yes', 'No', 'Yes', 'No', 'No', 'Yes', 'No', 'No', 'Yes']\n",
    "}\n",
    "\n",
    "# Convert to DataFrame\n",
    "df = pd.DataFrame(data)\n",
    "\n",
    "# Function to calculate entropy\n",
    "def entropy(labels):\n",
    "    elements, counts = np.unique(labels, return_counts=True)\n",
    "    probabilities = counts / len(labels)\n",
    "    return -np.sum(probabilities * np.log2(probabilities))\n",
    "\n",
    "# Function to calculate information gain\n",
    "def information_gain(df, attribute, target='WillWait'):\n",
    "    total_entropy = entropy(df[target])\n",
    "    values, counts = np.unique(df[attribute], return_counts=True)\n",
    "    \n",
    "    weighted_entropy = 0\n",
    "    for value, count in zip(values, counts):\n",
    "        subset = df[df[attribute] == value][target]\n",
    "        weighted_entropy += (count / len(df)) * entropy(subset)\n",
    "    \n",
    "    return total_entropy - weighted_entropy\n",
    "\n",
    "# Calculate information gain for 'Hun' attribute\n",
    "info_gain_hun = information_gain(df, 'Hun')\n",
    "print(f\"Information Gain for 'Hun' attribute: {info_gain_hun}\")\n"
   ]
  }
 ],
 "metadata": {
  "kernelspec": {
   "display_name": "Python 3",
   "language": "python",
   "name": "python3"
  },
  "language_info": {
   "codemirror_mode": {
    "name": "ipython",
    "version": 3
   },
   "file_extension": ".py",
   "mimetype": "text/x-python",
   "name": "python",
   "nbconvert_exporter": "python",
   "pygments_lexer": "ipython3",
   "version": "3.12.4"
  }
 },
 "nbformat": 4,
 "nbformat_minor": 2
}
