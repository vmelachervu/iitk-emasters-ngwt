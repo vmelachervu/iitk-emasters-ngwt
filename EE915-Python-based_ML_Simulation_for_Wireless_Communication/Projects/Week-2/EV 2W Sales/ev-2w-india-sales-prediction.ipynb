{
 "cells": [
  {
   "cell_type": "code",
   "execution_count": null,
   "metadata": {},
   "outputs": [],
   "source": [
    "\n"
   ]
  },
  {
   "cell_type": "markdown",
   "metadata": {},
   "source": [
    "## EV 2W Sales Prediction per OEM for FY2024-25##\n",
    "**This is a Jupyter notebook for predicting electric vehicle 2W sales numbers for FY2024-25 per OEM based on monthly sales data of OEMs since 2019** <br><br>\n",
    "**Name**: Venkateswar Reddy Melachervu </br>\n",
    "**Course**: eMasters - NGWT, IIT-Kanpur </br>\n",
    "**Roll No.**: 23156022 </br>\n",
    "**Email**: vmela23@iitk.ac.in </br>"
   ]
  },
  {
   "cell_type": "code",
   "execution_count": 1,
   "metadata": {},
   "outputs": [],
   "source": [
    "import pandas as pd\n",
    "\n",
    "# Load the OEM past sales data workbook\n",
    "sales_work_book = 'India_EV_2W_Sales_Data.xlsx'\n",
    "sales_xls = pd.ExcelFile(sales_work_book)"
   ]
  },
  {
   "cell_type": "code",
   "execution_count": 2,
   "metadata": {},
   "outputs": [
    {
     "name": "stdout",
     "output_type": "stream",
     "text": [
      "Unique OEM names have been saved to unique_oems.csv\n",
      "                OEM\n",
      "0               TVS\n",
      "1          OKAYA EV\n",
      "2            OTHERS\n",
      "3             BAJAJ\n",
      "4            REVOLT\n",
      "5     KINETIC GREEN\n",
      "6      OLA ELECTRIC\n",
      "7            AMPERE\n",
      "8            BGAUSS\n",
      "9   BATTRE ELECTRIC\n",
      "10    HERO ELECTRIC\n",
      "11            ATHER\n",
      "12          OKINAWA\n"
     ]
    }
   ],
   "source": [
    "# Clean the workbook\n",
    "# find unique OEM names in the workbook from the sales data workbook in the first column\n",
    "\n",
    "# Create an empty set to store unique OEM names\n",
    "unique_oems = set()\n",
    "\n",
    "# Iterate through each sheet\n",
    "for sheet_name in sales_xls.sheet_names:\n",
    "    # Read the first column of the sheet\n",
    "    df = pd.read_excel(sales_xls, sheet_name=sheet_name, usecols=[0])\n",
    "    # Update the set with unique OEM names from the current sheet\n",
    "    unique_oems.update(df.iloc[:, 0].dropna().unique())\n",
    "\n",
    "# Convert the set to a list and create a DataFrame\n",
    "unique_oems_list = list(unique_oems)\n",
    "unique_oems_df = pd.DataFrame(unique_oems_list, columns=['OEM'])\n",
    "\n",
    "# Save the unique OEM names to a CSV file\n",
    "unique_oems_df.to_csv('unique_oems.csv', index=False)\n",
    "print(\"Unique OEM names have been saved to unique_oems.csv\")\n",
    "print(unique_oems_df)\n"
   ]
  },
  {
   "cell_type": "code",
   "execution_count": 6,
   "metadata": {},
   "outputs": [
    {
     "name": "stdout",
     "output_type": "stream",
     "text": [
      "        Manufacturer  Sales_Volume      Month\n",
      "0       OLA ELECTRIC         50545 2024-03-01\n",
      "1                TVS         26479 2024-03-01\n",
      "2              ATHER         17221 2024-03-01\n",
      "3              BAJAJ         17933 2024-03-01\n",
      "4             AMPERE          3146 2024-03-01\n",
      "..               ...           ...        ...\n",
      "775           REVOLT             0 2019-04-01\n",
      "776           BGAUSS             0 2019-04-01\n",
      "777  BATTRE ELECTRIC             0 2019-04-01\n",
      "778    KINETIC GREEN             0 2019-04-01\n",
      "779           OTHERS           291 2019-04-01\n",
      "\n",
      "[780 rows x 3 columns]\n"
     ]
    }
   ],
   "source": [
    "# Create empty dataframes to store the sales data of each OEM\n",
    "combined_df = pd.DataFrame()\n",
    "\n",
    "# Iterate over each OEM's sheet in the workbook\n",
    "for sheet_name in sales_xls.sheet_names:\n",
    "    # Read the sheet into a dataframe\n",
    "    df = pd.read_excel(sales_work_book, sheet_name=sheet_name)\n",
    "    # Append the dataframe to the combined dataframe\n",
    "    combined_df = pd.concat([combined_df,df], ignore_index=True)\n",
    "\n",
    "# Save the combined dataframe to a CSV file\n",
    "combined_df.to_csv('flattened_ev_2w_sales_data.csv', index=False)\n",
    "print(combined_df)"
   ]
  },
  {
   "cell_type": "code",
   "execution_count": 8,
   "metadata": {},
   "outputs": [
    {
     "name": "stdout",
     "output_type": "stream",
     "text": [
      "Sum of column two values by manufacturer:\n",
      "Manufacturer\n",
      "AMPERE             180312\n",
      "ATHER              215210\n",
      "BAJAJ              150394\n",
      "BATTRE ELECTRIC      4901\n",
      "BGAUSS              15235\n",
      "HERO ELECTRIC      195822\n",
      "KINETIC GREEN        9703\n",
      "OKAYA EV            27743\n",
      "OKINAWA            182370\n",
      "OLA ELECTRIC       497282\n",
      "OTHERS             225802\n",
      "REVOLT              31832\n",
      "TVS                279871\n",
      "Name: Sales_Volume, dtype: int64\n"
     ]
    }
   ],
   "source": [
    "# Read the combined CSV file into a DataFrame\n",
    "combined_df = pd.read_csv('flattened_ev_2w_sales_data.csv')\n",
    "\n",
    "# Group by the first column (Manufacturer) and sum column two values\n",
    "sum_by_manufacturer = combined_df.groupby('Manufacturer')['Sales_Volume'].sum()\n",
    "\n",
    "# Print or manipulate sum_by_manufacturer as needed\n",
    "print(\"Sum of column two values by manufacturer:\")\n",
    "print(sum_by_manufacturer)\n"
   ]
  },
  {
   "cell_type": "code",
   "execution_count": 13,
   "metadata": {},
   "outputs": [
    {
     "name": "stderr",
     "output_type": "stream",
     "text": [
      "C:\\Users\\vmela\\AppData\\Local\\Temp\\ipykernel_6232\\2842384990.py:21: SettingWithCopyWarning: \n",
      "A value is trying to be set on a copy of a slice from a DataFrame.\n",
      "Try using .loc[row_indexer,col_indexer] = value instead\n",
      "\n",
      "See the caveats in the documentation: https://pandas.pydata.org/pandas-docs/stable/user_guide/indexing.html#returning-a-view-versus-a-copy\n",
      "  X_train['Manufacturer'] = encoder.fit_transform(X_train['Manufacturer'])\n"
     ]
    }
   ],
   "source": [
    "import pandas as pd\n",
    "from sklearn.linear_model import LinearRegression\n",
    "from sklearn.preprocessing import LabelEncoder\n",
    "\n",
    "# Example: Read your CSV data into a DataFrame (adjust path and column names as per your data)\n",
    "df = pd.read_csv('flattened_ev_2w_sales_data.csv')\n",
    "\n",
    "# Preprocessing: Convert Month to numerical representation\n",
    "df['Month'] = pd.to_datetime(df['Month']).dt.month\n",
    "\n",
    "# Filter data for training (historical) and future (to predict) periods\n",
    "train_data = df[df['Month'] < 202404]\n",
    "future_data = df[df['Month'] >= 202404]\n",
    "\n",
    "# Prepare features (X) and target variable (y) for training\n",
    "X_train = train_data[['Manufacturer', 'Month']]\n",
    "y_train = train_data['Sales_Volume']\n",
    "\n",
    "# Encode categorical variables (Manufacturer)\n",
    "encoder = LabelEncoder()\n",
    "X_train['Manufacturer'] = encoder.fit_transform(X_train['Manufacturer'])\n",
    "\n",
    "# Initialize and fit a linear regression model\n",
    "model = LinearRegression()\n",
    "model.fit(X_train, y_train)\n",
    "\n",
    "# Prepare features (X) for future prediction\n",
    "X_future = future_data[['Manufacturer', 'Month']]\n",
    "X_future['Manufacturer'] = encoder.transform(X_future['Manufacturer'])  # Use same encoder as in training\n",
    "\n",
    "# Predict sales volumes for the future period (01-04-2024 to 01-03-2025)\n",
    "y_pred = model.predict(X_future)\n",
    "\n",
    "# Append predictions to future_data DataFrame for analysis or further use\n",
    "future_data['Predicted_Sales_Volume'] = y_pred\n",
    "\n",
    "# Print or further analyze predictions\n",
    "print(\"Predicted Sales Volumes for 01-04-2024 to 01-03-2025:\")\n",
    "print(future_data[['Manufacturer', 'Month', 'Predicted_Sales_Volume']])\n"
   ]
  }
 ],
 "metadata": {
  "kernelspec": {
   "display_name": "Python 3",
   "language": "python",
   "name": "python3"
  },
  "language_info": {
   "codemirror_mode": {
    "name": "ipython",
    "version": 3
   },
   "file_extension": ".py",
   "mimetype": "text/x-python",
   "name": "python",
   "nbconvert_exporter": "python",
   "pygments_lexer": "ipython3",
   "version": "3.11.9"
  }
 },
 "nbformat": 4,
 "nbformat_minor": 2
}
